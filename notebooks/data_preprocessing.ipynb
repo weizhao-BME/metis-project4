{
 "cells": [
  {
   "cell_type": "code",
   "execution_count": 2,
   "metadata": {},
   "outputs": [
    {
     "name": "stdout",
     "output_type": "stream",
     "text": [
      "INFO: Pandarallel will run on 12 workers.\n",
      "INFO: Pandarallel will use Memory file system to transfer data between the main process and workers.\n"
     ]
    }
   ],
   "source": [
    "from util import *\n",
    "import matplotlib.pyplot as plt\n",
    "import pandas as pd\n",
    "import warnings\n",
    "from data_cleaning import *\n",
    "from pandarallel import pandarallel\n",
    "from collections import defaultdict\n",
    "from nltk.tokenize import word_tokenize\n",
    "import nltk\n",
    "pandarallel.initialize()"
   ]
  },
  {
   "cell_type": "code",
   "execution_count": 3,
   "metadata": {},
   "outputs": [
    {
     "name": "stdout",
     "output_type": "stream",
     "text": [
      "Populating the interactive namespace from numpy and matplotlib\n"
     ]
    }
   ],
   "source": [
    "warnings.filterwarnings('ignore')\n",
    "pd.options.display.float_format = '{:,.2f}'.format\n",
    "pd.set_option(\"display.max_rows\", 999)\n",
    "pd.set_option(\"display.max_columns\", None)\n",
    "pd.set_option(\"precision\", 3)\n",
    "%pylab inline\n",
    "%config InlineBackend.figure_formats = ['retina']"
   ]
  },
  {
   "cell_type": "code",
   "execution_count": 4,
   "metadata": {},
   "outputs": [
    {
     "name": "stdout",
     "output_type": "stream",
     "text": [
      "Read data from \"../data/data.pickle\"\n"
     ]
    }
   ],
   "source": [
    "fn = '../data/data.pickle'\n",
    "data = read_from_pickle(fn)"
   ]
  },
  {
   "cell_type": "code",
   "execution_count": 5,
   "metadata": {},
   "outputs": [
    {
     "data": {
      "text/html": [
       "<div>\n",
       "<style scoped>\n",
       "    .dataframe tbody tr th:only-of-type {\n",
       "        vertical-align: middle;\n",
       "    }\n",
       "\n",
       "    .dataframe tbody tr th {\n",
       "        vertical-align: top;\n",
       "    }\n",
       "\n",
       "    .dataframe thead th {\n",
       "        text-align: right;\n",
       "    }\n",
       "</style>\n",
       "<table border=\"1\" class=\"dataframe\">\n",
       "  <thead>\n",
       "    <tr style=\"text-align: right;\">\n",
       "      <th></th>\n",
       "      <th>title</th>\n",
       "      <th>journal</th>\n",
       "      <th>keywords</th>\n",
       "      <th>abstract</th>\n",
       "      <th>first_author</th>\n",
       "      <th>last_author</th>\n",
       "      <th>year</th>\n",
       "    </tr>\n",
       "  </thead>\n",
       "  <tbody>\n",
       "    <tr>\n",
       "      <th>0</th>\n",
       "      <td>Factors Associated With Concussion Nondisclosu...</td>\n",
       "      <td>Journal of athletic training</td>\n",
       "      <td>coach influence\", \"pressure\", \"reporting behavior</td>\n",
       "      <td>Mandated concussion education has aimed to imp...</td>\n",
       "      <td>Morgan Anderson</td>\n",
       "      <td>Erica Beidler</td>\n",
       "      <td>2021</td>\n",
       "    </tr>\n",
       "    <tr>\n",
       "      <th>1</th>\n",
       "      <td>Extracellular vesicle concentrations of glial ...</td>\n",
       "      <td>Scientific reports</td>\n",
       "      <td></td>\n",
       "      <td>Traumatic brain injury (TBI) is linked to long...</td>\n",
       "      <td>Spencer Flynn</td>\n",
       "      <td>Leighton Chan</td>\n",
       "      <td>2021</td>\n",
       "    </tr>\n",
       "  </tbody>\n",
       "</table>\n",
       "</div>"
      ],
      "text/plain": [
       "                                               title  \\\n",
       "0  Factors Associated With Concussion Nondisclosu...   \n",
       "1  Extracellular vesicle concentrations of glial ...   \n",
       "\n",
       "                        journal  \\\n",
       "0  Journal of athletic training   \n",
       "1            Scientific reports   \n",
       "\n",
       "                                            keywords  \\\n",
       "0  coach influence\", \"pressure\", \"reporting behavior   \n",
       "1                                                      \n",
       "\n",
       "                                            abstract     first_author  \\\n",
       "0  Mandated concussion education has aimed to imp...  Morgan Anderson   \n",
       "1  Traumatic brain injury (TBI) is linked to long...    Spencer Flynn   \n",
       "\n",
       "     last_author  year  \n",
       "0  Erica Beidler  2021  \n",
       "1  Leighton Chan  2021  "
      ]
     },
     "execution_count": 5,
     "metadata": {},
     "output_type": "execute_result"
    }
   ],
   "source": [
    "df = pd.DataFrame(data)\n",
    "df = data_cleaning(df)\n",
    "df.head(2)"
   ]
  },
  {
   "cell_type": "markdown",
   "metadata": {},
   "source": [
    "## 1. **Clean texts**"
   ]
  },
  {
   "cell_type": "code",
   "execution_count": 5,
   "metadata": {},
   "outputs": [],
   "source": [
    "#remove punctuation\n",
    "df['abstract'] = (df['abstract']\n",
    "                  .parallel_apply(remove_punctuation)\n",
    "                  .parallel_apply(remove_num)\n",
    "                 )\n",
    "df['title'] = df['title'].parallel_apply(remove_punctuation)"
   ]
  },
  {
   "cell_type": "code",
   "execution_count": 6,
   "metadata": {},
   "outputs": [],
   "source": [
    "#get nouns\n",
    "df['abstract'] = df['abstract'].parallel_apply(get_nouns_adj)\n",
    "df['title'] = df['title'].parallel_apply(get_nouns_adj)\n",
    "# df['abstract'] = df['abstract'].parallel_apply(get_nouns)\n",
    "# df['title'] = df['title'].parallel_apply(get_nouns)"
   ]
  },
  {
   "cell_type": "code",
   "execution_count": 7,
   "metadata": {},
   "outputs": [],
   "source": [
    "#combine title and abstract\n",
    "df['title_and_abstract'] = df['title'] + ' ' + df['abstract']"
   ]
  },
  {
   "cell_type": "code",
   "execution_count": 8,
   "metadata": {},
   "outputs": [],
   "source": [
    "# lemmatization\n",
    "df['title_and_abstract_lemma'] = df['title_and_abstract'].parallel_apply(paragraph_lemma)"
   ]
  },
  {
   "cell_type": "code",
   "execution_count": 9,
   "metadata": {},
   "outputs": [
    {
     "data": {
      "text/html": [
       "<div>\n",
       "<style scoped>\n",
       "    .dataframe tbody tr th:only-of-type {\n",
       "        vertical-align: middle;\n",
       "    }\n",
       "\n",
       "    .dataframe tbody tr th {\n",
       "        vertical-align: top;\n",
       "    }\n",
       "\n",
       "    .dataframe thead th {\n",
       "        text-align: right;\n",
       "    }\n",
       "</style>\n",
       "<table border=\"1\" class=\"dataframe\">\n",
       "  <thead>\n",
       "    <tr style=\"text-align: right;\">\n",
       "      <th></th>\n",
       "      <th>title</th>\n",
       "      <th>journal</th>\n",
       "      <th>keywords</th>\n",
       "      <th>abstract</th>\n",
       "      <th>first_author</th>\n",
       "      <th>last_author</th>\n",
       "      <th>year</th>\n",
       "      <th>title_and_abstract</th>\n",
       "      <th>title_and_abstract_lemma</th>\n",
       "    </tr>\n",
       "  </thead>\n",
       "  <tbody>\n",
       "    <tr>\n",
       "      <th>0</th>\n",
       "      <td>Factors Concussion Nondisclosure Collegiate St...</td>\n",
       "      <td>Journal of athletic training</td>\n",
       "      <td>coach influence\", \"pressure\", \"reporting behavior</td>\n",
       "      <td>concussion education student athlete knowledge...</td>\n",
       "      <td>Morgan Anderson</td>\n",
       "      <td>Erica Beidler</td>\n",
       "      <td>2021</td>\n",
       "      <td>Factors Concussion Nondisclosure Collegiate St...</td>\n",
       "      <td>factor concussion nondisclosure collegiate stu...</td>\n",
       "    </tr>\n",
       "    <tr>\n",
       "      <th>1</th>\n",
       "      <td>Extracellular vesicle concentrations glial fib...</td>\n",
       "      <td>Scientific reports</td>\n",
       "      <td></td>\n",
       "      <td>Traumatic brain injury TBI long term symptoms ...</td>\n",
       "      <td>Spencer Flynn</td>\n",
       "      <td>Leighton Chan</td>\n",
       "      <td>2021</td>\n",
       "      <td>Extracellular vesicle concentrations glial fib...</td>\n",
       "      <td>extracellular vesicle concentration glial fibr...</td>\n",
       "    </tr>\n",
       "  </tbody>\n",
       "</table>\n",
       "</div>"
      ],
      "text/plain": [
       "                                               title  \\\n",
       "0  Factors Concussion Nondisclosure Collegiate St...   \n",
       "1  Extracellular vesicle concentrations glial fib...   \n",
       "\n",
       "                        journal  \\\n",
       "0  Journal of athletic training   \n",
       "1            Scientific reports   \n",
       "\n",
       "                                            keywords  \\\n",
       "0  coach influence\", \"pressure\", \"reporting behavior   \n",
       "1                                                      \n",
       "\n",
       "                                            abstract     first_author  \\\n",
       "0  concussion education student athlete knowledge...  Morgan Anderson   \n",
       "1  Traumatic brain injury TBI long term symptoms ...    Spencer Flynn   \n",
       "\n",
       "     last_author  year                                 title_and_abstract  \\\n",
       "0  Erica Beidler  2021  Factors Concussion Nondisclosure Collegiate St...   \n",
       "1  Leighton Chan  2021  Extracellular vesicle concentrations glial fib...   \n",
       "\n",
       "                            title_and_abstract_lemma  \n",
       "0  factor concussion nondisclosure collegiate stu...  \n",
       "1  extracellular vesicle concentration glial fibr...  "
      ]
     },
     "execution_count": 9,
     "metadata": {},
     "output_type": "execute_result"
    }
   ],
   "source": [
    "df.head(2)\n"
   ]
  },
  {
   "cell_type": "markdown",
   "metadata": {},
   "source": [
    "## **2. Generate n-grams**"
   ]
  },
  {
   "cell_type": "code",
   "execution_count": 10,
   "metadata": {},
   "outputs": [],
   "source": [
    "# get yearly data\n",
    "years = range(1991, 2022)\n",
    "data_yearly = defaultdict(list)\n",
    "for y in years:\n",
    "    data_yearly[y] = df['title_and_abstract_lemma'][df['year'] == y]\n"
   ]
  },
  {
   "cell_type": "code",
   "execution_count": 11,
   "metadata": {},
   "outputs": [],
   "source": [
    "# tokenize word and delete most frequent abbreviation, like 'mtbi', 'tbi'\n",
    "words_tkn = defaultdict(list)\n",
    "df_words_tkn = defaultdict(list)\n",
    "for y in years:\n",
    "    t = (data_yearly[y]\n",
    "         .parallel_apply(word_tokenize)\n",
    "         .parallel_apply(del_abbreviation)\n",
    "        )\n",
    "    \n",
    "    df_words_tkn[y] = t\n",
    "                       \n",
    "    words_tkn[y] = sum(t)\n"
   ]
  },
  {
   "cell_type": "code",
   "execution_count": 12,
   "metadata": {},
   "outputs": [],
   "source": [
    "all_text = sum(list(words_tkn.values()))"
   ]
  },
  {
   "cell_type": "code",
   "execution_count": 13,
   "metadata": {},
   "outputs": [],
   "source": [
    "df_quagrams = (pd.Series(nltk.ngrams(all_text, 4)).value_counts())[:100]"
   ]
  },
  {
   "cell_type": "code",
   "execution_count": 14,
   "metadata": {},
   "outputs": [
    {
     "data": {
      "text/plain": [
       "['mild traumatic brain injury',\n",
       " 'severe traumatic brain injury',\n",
       " 'patient traumatic brain injury',\n",
       " 'injury traumatic brain injury',\n",
       " 'traumatic brain injury patient']"
      ]
     },
     "execution_count": 14,
     "metadata": {},
     "output_type": "execute_result"
    }
   ],
   "source": [
    "thresh_quagrams = np.percentile(df_quagrams.values, 95) \n",
    "quagrams = list(df_quagrams.index[df_quagrams.values > thresh_quagrams].to_series().apply(' '.join).values)\n",
    "quagrams"
   ]
  },
  {
   "cell_type": "code",
   "execution_count": 15,
   "metadata": {},
   "outputs": [],
   "source": [
    "df_trigrams = (pd.Series(nltk.ngrams(all_text, 3)).value_counts())[:100]"
   ]
  },
  {
   "cell_type": "code",
   "execution_count": 16,
   "metadata": {},
   "outputs": [
    {
     "data": {
      "text/plain": [
       "['traumatic brain injury',\n",
       " 'mild traumatic brain',\n",
       " 'severe traumatic brain',\n",
       " 'patient traumatic brain',\n",
       " 'glasgow coma scale',\n",
       " 'spinal cord injury',\n",
       " 'brain injury patient',\n",
       " 'central nervous system',\n",
       " 'injury traumatic brain',\n",
       " 'intensive care unit',\n",
       " 'brain injury traumatic',\n",
       " 'blood brain barrier',\n",
       " 'coma scale score',\n",
       " 'glasgow outcome scale',\n",
       " 'patient severe traumatic',\n",
       " 'cerebral blood flow',\n",
       " 'controlled cortical impact',\n",
       " 'cerebral perfusion pressure',\n",
       " 'posttraumatic stress disorder']"
      ]
     },
     "execution_count": 16,
     "metadata": {},
     "output_type": "execute_result"
    }
   ],
   "source": [
    "thresh_trigrams = np.percentile(df_trigrams.values, 81) \n",
    "trigrams = list(df_trigrams.index[df_trigrams.values > thresh_trigrams].to_series().apply(' '.join).values)\n",
    "trigrams"
   ]
  },
  {
   "cell_type": "code",
   "execution_count": 17,
   "metadata": {},
   "outputs": [],
   "source": [
    "df_bigrams = (pd.Series(nltk.ngrams(all_text, 2)).value_counts())[:150]"
   ]
  },
  {
   "cell_type": "code",
   "execution_count": 18,
   "metadata": {},
   "outputs": [
    {
     "data": {
      "text/plain": [
       "['brain injury',\n",
       " 'traumatic brain',\n",
       " 'head injury',\n",
       " 'mild traumatic',\n",
       " 'long term',\n",
       " 'severe traumatic',\n",
       " 'spinal cord',\n",
       " 'post traumatic',\n",
       " 'patient traumatic',\n",
       " 'intracranial pressure',\n",
       " 'glasgow coma',\n",
       " 'patient severe',\n",
       " 'injury patient',\n",
       " 'risk factor',\n",
       " 'coma scale',\n",
       " 'injury severity',\n",
       " 'post injury',\n",
       " 'age year',\n",
       " 'white matter',\n",
       " 'nervous system',\n",
       " 'brain tissue',\n",
       " 'present study',\n",
       " 'control group',\n",
       " 'magnetic resonance',\n",
       " 'cord injury',\n",
       " 'head trauma',\n",
       " 'injury traumatic',\n",
       " 'year old',\n",
       " 'sport concussion',\n",
       " 'intensive care',\n",
       " 'significant difference',\n",
       " 'moderate severe',\n",
       " 'functional outcome',\n",
       " 'emergency department',\n",
       " 'central nervous',\n",
       " 'quality life',\n",
       " 'care unit',\n",
       " 'axonal injury',\n",
       " 'scale score',\n",
       " 'confidence interval',\n",
       " 'cohort study',\n",
       " 'stress disorder',\n",
       " 'systematic review',\n",
       " 'cortical impact',\n",
       " 'logistic regression',\n",
       " 'clinical trial',\n",
       " 'cell death',\n",
       " 'post concussion',\n",
       " 'outcome patient',\n",
       " 'blood flow',\n",
       " 'high school',\n",
       " 'animal model',\n",
       " 'blood brain',\n",
       " 'head impact',\n",
       " 'cognitive impairment',\n",
       " 'ct scan',\n",
       " 'trauma patient',\n",
       " 'glasgow outcome',\n",
       " 'aim study',\n",
       " 'stem cell',\n",
       " 'day injury',\n",
       " 'brain damage',\n",
       " 'brain barrier']"
      ]
     },
     "execution_count": 18,
     "metadata": {},
     "output_type": "execute_result"
    }
   ],
   "source": [
    "thresh_bigrams = np.percentile(df_bigrams.values, 58) \n",
    "bigrams = list(df_bigrams.index[df_bigrams.values > thresh_bigrams].to_series().apply(' '.join).values)\n",
    "bigrams"
   ]
  },
  {
   "cell_type": "code",
   "execution_count": 27,
   "metadata": {},
   "outputs": [
    {
     "name": "stdout",
     "output_type": "stream",
     "text": [
      "Saved data to \"../data/data_preprocessed.pickle\"\n"
     ]
    }
   ],
   "source": [
    "dict_ngrams = {'bigrams': bigrams, 'trigrams': trigrams, 'quagrams': quagrams}\n",
    "clean_data = {'df_words_tkn': df_words_tkn, 'dict_ngrams': dict_ngrams,\n",
    "             'df_original': df}\n",
    "fn = '../data/data_preprocessed.pickle'\n",
    "save_as_pickle(fn,clean_data)"
   ]
  }
 ],
 "metadata": {
  "kernelspec": {
   "display_name": "Python 3",
   "language": "python",
   "name": "python3"
  },
  "language_info": {
   "codemirror_mode": {
    "name": "ipython",
    "version": 3
   },
   "file_extension": ".py",
   "mimetype": "text/x-python",
   "name": "python",
   "nbconvert_exporter": "python",
   "pygments_lexer": "ipython3",
   "version": "3.8.5"
  }
 },
 "nbformat": 4,
 "nbformat_minor": 4
}
